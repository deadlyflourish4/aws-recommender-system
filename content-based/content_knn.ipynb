{
 "cells": [
  {
   "cell_type": "code",
   "execution_count": 11,
   "metadata": {},
   "outputs": [],
   "source": [
    "from movieLens import MovieLens\n",
    "\n",
    "a  = MovieLens()"
   ]
  },
  {
   "cell_type": "code",
   "execution_count": null,
   "metadata": {},
   "outputs": [],
   "source": [
    "from surprise import AlgoBase, PredictionImpossible\n",
    "import numpy as np\n",
    "import math\n",
    "import heapq\n",
    "\n",
    "class ContentBased(AlgoBase):\n",
    "    def __init__(self, k=40, sim_options={}):\n",
    "        AlgoBase().__init__(self)\n",
    "        self.k = k\n",
    "\n",
    "    def fit(self, trainset):\n",
    "        AlgoBase.fit(self, trainset)\n",
    "\n",
    "        df = MovieLens()\n",
    "        genres = df.getGenre()\n",
    "        years = df.getYears()\n",
    "\n",
    "        print(\"Computing content-based similarity matrix...\")\n",
    "            \n",
    "        # Compute genre distance for every movie combination as a 2x2 matrix\n",
    "        self.similarities = np.zeros((self.trainset.n_items, self.trainset.n_items))\n",
    "\n",
    "        for ratings in range(self.trainset.n_items):\n",
    "            if(ratings % 100 == 0):\n",
    "                print(ratings, \"of\", self.trainset.n_items)\n",
    "            for otherRatings in range(ratings + 1, self.trainset.n_items):\n",
    "                movie1_ID = int(self.trainset.to_raw_iid(ratings))\n",
    "                movie2_ID = int(self.trainset.to_raw_iid(otherRatings))\n",
    "                genreSimilarity = self.genreSimilarity(movie1_ID, movie2_ID, genres)\n",
    "                yearSimilarity = self.yearSimilarity(movie1_ID, movie2_ID, years)\n",
    "\n",
    "                self.similarities[movie1_ID, movie2_ID] = genreSimilarity * yearSimilarity\n",
    "        \n",
    "        print(\"...done.\")\n",
    "                \n",
    "        return self\n",
    "\n",
    "    # Cosine similarity for genre\n",
    "    def genreSimilarity(self, movieID1, movieID2, genres):\n",
    "        movie1_genre = genres[movieID1]\n",
    "        movie2_genre = genres[movieID2]\n",
    "\n",
    "        sumxy = np.sum(movie1_genre * movie2_genre)\n",
    "        sumxx = np.sqrt(np.sum(np.square(movie1_genre)))\n",
    "        sumyy = np.sqrt(np.sum(np.square(movie2_genre)))\n",
    "\n",
    "        return sumxy / (sumxx * sumyy)\n",
    "\n",
    "    def yearSimilarity(self, movieID1, movieID2, years):\n",
    "        diff = np.abs(years[movieID1] - years[movieID2])\n",
    "        \n",
    "        return np.exp(-diff / 10.0)\n",
    "\n",
    "    def estimate(self, u, i):\n",
    "\n",
    "        if not (self.trainset.knows_user(u) and self.trainset.knows_item(i)):\n",
    "            raise PredictionImpossible('User and/or item is unkown.')\n",
    "        \n",
    "        # Build up similarity scores between this item and everything the user rated\n",
    "        neighbors = []\n",
    "        for rating in self.trainset.ur[u]:\n",
    "            genreSimilarity = self.similarities[i,rating[0]]\n",
    "            neighbors.append( (genreSimilarity, rating[1]) )\n",
    "        \n",
    "        # Extract the top-K most-similar ratings\n",
    "        k_neighbors = heapq.nlargest(self.k, neighbors, key=lambda t: t[0])\n",
    "        \n",
    "        # Compute average sim score of K neighbors weighted by user ratings\n",
    "        simTotal = weightedSum = 0\n",
    "        for (simScore, rating) in k_neighbors:\n",
    "            if (simScore > 0):\n",
    "                simTotal += simScore\n",
    "                weightedSum += simScore * rating\n",
    "            \n",
    "        if (simTotal == 0):\n",
    "            raise PredictionImpossible('No neighbors')\n",
    "\n",
    "        predictedRating = weightedSum / simTotal\n",
    "\n",
    "        return predictedRating\n"
   ]
  },
  {
   "cell_type": "code",
   "execution_count": 5,
   "metadata": {},
   "outputs": [
    {
     "name": "stdout",
     "output_type": "stream",
     "text": [
      "Original array: [1 2 3 4 5]\n",
      "Sum of squares: 55\n",
      "[ 1  4  9 16 25]\n"
     ]
    }
   ],
   "source": [
    "import numpy as np\n",
    "\n",
    "# Create a NumPy array\n",
    "array = np.array([1, 2, 3, 4, 5])\n",
    "\n",
    "# Compute the sum of the squares of the elements in the array\n",
    "sum_of_squares = np.sum(np.square(array))\n",
    "\n",
    "print(\"Original array:\", array)\n",
    "print(\"Sum of squares:\", sum_of_squares)\n",
    "print(array * array)"
   ]
  },
  {
   "cell_type": "code",
   "execution_count": null,
   "metadata": {},
   "outputs": [],
   "source": []
  }
 ],
 "metadata": {
  "kernelspec": {
   "display_name": "rec-sys",
   "language": "python",
   "name": "python3"
  },
  "language_info": {
   "codemirror_mode": {
    "name": "ipython",
    "version": 3
   },
   "file_extension": ".py",
   "mimetype": "text/x-python",
   "name": "python",
   "nbconvert_exporter": "python",
   "pygments_lexer": "ipython3",
   "version": "3.11.11"
  }
 },
 "nbformat": 4,
 "nbformat_minor": 2
}
